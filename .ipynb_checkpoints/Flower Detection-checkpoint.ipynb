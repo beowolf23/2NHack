{
 "cells": [
  {
   "cell_type": "code",
   "execution_count": 73,
   "id": "5fbc5a06",
   "metadata": {
    "scrolled": true
   },
   "outputs": [],
   "source": [
    "import tensorflow as tf\n",
    "import keras\n",
    "import tensorflow.keras as tfk\n",
    "import keras_preprocessing\n",
    "import matplotlib.pyplot as plt\n",
    "import PIL\n",
    "import numpy as np\n",
    "\n",
    "BATCHSIZE = 128"
   ]
  },
  {
   "cell_type": "code",
   "execution_count": 81,
   "id": "99a1c2b9",
   "metadata": {},
   "outputs": [
    {
     "data": {
      "text/plain": [
       "[]"
      ]
     },
     "execution_count": 81,
     "metadata": {},
     "output_type": "execute_result"
    }
   ],
   "source": [
    "tf.config.list_physical_devices('GPU')"
   ]
  },
  {
   "cell_type": "code",
   "execution_count": 59,
   "id": "067e59ba",
   "metadata": {
    "scrolled": true
   },
   "outputs": [
    {
     "name": "stdout",
     "output_type": "stream",
     "text": [
      "Training Set:\n",
      "Found 25948 images belonging to 92 classes.\n",
      "Validation Set:\n",
      "Found 11058 images belonging to 92 classes.\n"
     ]
    }
   ],
   "source": [
    "train_datagen = keras_preprocessing.image.ImageDataGenerator(\n",
    "        rescale=1./255,\n",
    "        shear_range=0.2,\n",
    "        zoom_range=0.2,\n",
    "        horizontal_flip=True,\n",
    "        validation_split=0.3\n",
    ")\n",
    "print(\"Training Set:\")\n",
    "training_set = train_datagen.flow_from_directory(\n",
    "        'flowersdata/',\n",
    "        target_size=(64, 64),\n",
    "        batch_size=BATCHSIZE,\n",
    "        subset='training',\n",
    "        shuffle=True,\n",
    "        seed=1337,\n",
    "        class_mode='categorical')\n",
    "\n",
    "print(\"Validation Set:\")\n",
    "validation_datagen = keras_preprocessing.image.ImageDataGenerator(rescale=1./255, validation_split=0.3)\n",
    "validation_set = validation_datagen.flow_from_directory(\n",
    "        'flowersdata/',\n",
    "        target_size=(64, 64),\n",
    "        batch_size=BATCHSIZE,\n",
    "        subset='validation',\n",
    "        shuffle=True,\n",
    "        seed=1337,\n",
    "        class_mode='categorical')"
   ]
  },
  {
   "cell_type": "code",
   "execution_count": 60,
   "id": "70f858c5",
   "metadata": {},
   "outputs": [],
   "source": [
    "conv_neural_network = tf.keras.models.Sequential()"
   ]
  },
  {
   "cell_type": "code",
   "execution_count": 61,
   "id": "296a1caf",
   "metadata": {
    "scrolled": true
   },
   "outputs": [],
   "source": [
    "conv_neural_network.add(tf.keras.layers.Conv2D(filters=64 , kernel_size=3 , activation='relu' , input_shape=[64,64,3]))\n",
    "conv_neural_network.add(tf.keras.layers.MaxPool2D(pool_size=2,strides=2))\n"
   ]
  },
  {
   "cell_type": "code",
   "execution_count": 62,
   "id": "6d16fae2",
   "metadata": {},
   "outputs": [],
   "source": [
    "conv_neural_network.add(tf.keras.layers.Conv2D(filters=64 , kernel_size=3 , activation='relu' ))\n",
    "conv_neural_network.add(tf.keras.layers.MaxPool2D(pool_size=2 , strides=2))"
   ]
  },
  {
   "cell_type": "code",
   "execution_count": 63,
   "id": "7be52f4f",
   "metadata": {},
   "outputs": [],
   "source": [
    "conv_neural_network.add(tf.keras.layers.Dropout(0.5))"
   ]
  },
  {
   "cell_type": "code",
   "execution_count": 64,
   "id": "45d2ddc0",
   "metadata": {},
   "outputs": [],
   "source": [
    "conv_neural_network.add(tf.keras.layers.Flatten())"
   ]
  },
  {
   "cell_type": "code",
   "execution_count": 65,
   "id": "0fd49656",
   "metadata": {},
   "outputs": [],
   "source": [
    "conv_neural_network.add(tf.keras.layers.Dense(units=128, activation='relu'))"
   ]
  },
  {
   "cell_type": "code",
   "execution_count": 66,
   "id": "3a87281e",
   "metadata": {
    "scrolled": true
   },
   "outputs": [],
   "source": [
    "conv_neural_network.add(tf.keras.layers.Dense(units=len(training_set.class_indices.items()) , activation='softmax'))"
   ]
  },
  {
   "cell_type": "code",
   "execution_count": 67,
   "id": "733499a9",
   "metadata": {},
   "outputs": [],
   "source": [
    "conv_neural_network.compile(optimizer = 'rmsprop' , loss = 'categorical_crossentropy' , metrics = ['accuracy'])"
   ]
  },
  {
   "cell_type": "code",
   "execution_count": 77,
   "id": "ddabd352",
   "metadata": {},
   "outputs": [
    {
     "name": "stdout",
     "output_type": "stream",
     "text": [
      "Epoch 1/5\n",
      "203/203 [==============================] - 104s 514ms/step - loss: 3.3393 - accuracy: 0.1767 - val_loss: 3.3356 - val_accuracy: 0.1744\n",
      "Epoch 2/5\n",
      "203/203 [==============================] - 104s 515ms/step - loss: 3.1178 - accuracy: 0.2264 - val_loss: 3.2250 - val_accuracy: 0.2079\n",
      "Epoch 3/5\n",
      "203/203 [==============================] - 100s 493ms/step - loss: 2.9468 - accuracy: 0.2579 - val_loss: 3.0556 - val_accuracy: 0.2371\n",
      "Epoch 4/5\n",
      "203/203 [==============================] - 100s 494ms/step - loss: 2.7962 - accuracy: 0.2913 - val_loss: 2.9020 - val_accuracy: 0.2664\n",
      "Epoch 5/5\n",
      "203/203 [==============================] - 100s 493ms/step - loss: 2.6695 - accuracy: 0.3169 - val_loss: 2.7784 - val_accuracy: 0.3023\n"
     ]
    },
    {
     "data": {
      "text/plain": [
       "<keras.callbacks.History at 0x7f7ea6e87370>"
      ]
     },
     "execution_count": 77,
     "metadata": {},
     "output_type": "execute_result"
    }
   ],
   "source": [
    "conv_neural_network.fit(x = training_set, validation_data = validation_set , epochs = 5, batch_size=BATCHSIZE)"
   ]
  },
  {
   "cell_type": "code",
   "execution_count": 79,
   "id": "97f3a81c",
   "metadata": {
    "scrolled": true
   },
   "outputs": [
    {
     "name": "stdout",
     "output_type": "stream",
     "text": [
      "[[0.000000e+00 0.000000e+00 0.000000e+00 0.000000e+00 0.000000e+00\n",
      "  0.000000e+00 0.000000e+00 0.000000e+00 0.000000e+00 0.000000e+00\n",
      "  0.000000e+00 0.000000e+00 0.000000e+00 0.000000e+00 0.000000e+00\n",
      "  0.000000e+00 0.000000e+00 0.000000e+00 0.000000e+00 0.000000e+00\n",
      "  0.000000e+00 0.000000e+00 0.000000e+00 0.000000e+00 0.000000e+00\n",
      "  0.000000e+00 0.000000e+00 1.000000e+00 0.000000e+00 0.000000e+00\n",
      "  0.000000e+00 0.000000e+00 0.000000e+00 0.000000e+00 0.000000e+00\n",
      "  0.000000e+00 0.000000e+00 0.000000e+00 0.000000e+00 0.000000e+00\n",
      "  0.000000e+00 0.000000e+00 0.000000e+00 0.000000e+00 0.000000e+00\n",
      "  0.000000e+00 0.000000e+00 0.000000e+00 0.000000e+00 0.000000e+00\n",
      "  0.000000e+00 0.000000e+00 0.000000e+00 0.000000e+00 0.000000e+00\n",
      "  0.000000e+00 0.000000e+00 0.000000e+00 0.000000e+00 0.000000e+00\n",
      "  0.000000e+00 0.000000e+00 0.000000e+00 0.000000e+00 0.000000e+00\n",
      "  0.000000e+00 0.000000e+00 0.000000e+00 9.722577e-18 0.000000e+00\n",
      "  0.000000e+00 0.000000e+00 0.000000e+00 0.000000e+00 0.000000e+00\n",
      "  0.000000e+00 0.000000e+00 0.000000e+00 0.000000e+00 0.000000e+00\n",
      "  0.000000e+00 0.000000e+00 0.000000e+00 0.000000e+00 0.000000e+00\n",
      "  0.000000e+00 0.000000e+00 0.000000e+00 0.000000e+00 0.000000e+00\n",
      "  0.000000e+00 0.000000e+00]]\n",
      "92\n",
      "Black-eyedSusan\n"
     ]
    }
   ],
   "source": [
    "from keras_preprocessing import image\n",
    "test_img = image.load_img('flower.jpg', target_size=(64,64))\n",
    "test_img = image.img_to_array(test_img)\n",
    "test_img = np.expand_dims(test_img, axis=0)\n",
    "res = conv_neural_network.predict(test_img)\n",
    "\n",
    "#print(res[0][0])\n",
    "#print(test_img[0][0])\n",
    "print(res)\n",
    "max = res.argmax(1)[0]\n",
    "\n",
    "print(len(training_set.class_indices.items()))\n",
    "\n",
    "flower_names = list(training_set.class_indices.keys())\n",
    "print(flower_names[max])\n"
   ]
  },
  {
   "cell_type": "code",
   "execution_count": null,
   "id": "dc0f853d",
   "metadata": {},
   "outputs": [],
   "source": []
  },
  {
   "cell_type": "code",
   "execution_count": null,
   "id": "7ceb9e11",
   "metadata": {},
   "outputs": [],
   "source": []
  },
  {
   "cell_type": "code",
   "execution_count": null,
   "id": "1eecd44e",
   "metadata": {},
   "outputs": [],
   "source": []
  }
 ],
 "metadata": {
  "kernelspec": {
   "display_name": "Python 3 (ipykernel)",
   "language": "python",
   "name": "python3"
  },
  "language_info": {
   "codemirror_mode": {
    "name": "ipython",
    "version": 3
   },
   "file_extension": ".py",
   "mimetype": "text/x-python",
   "name": "python",
   "nbconvert_exporter": "python",
   "pygments_lexer": "ipython3",
   "version": "3.9.5"
  }
 },
 "nbformat": 4,
 "nbformat_minor": 5
}
