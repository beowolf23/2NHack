{
 "cells": [
  {
   "cell_type": "code",
   "execution_count": 131,
   "id": "5fbc5a06",
   "metadata": {},
   "outputs": [],
   "source": [
    "import tensorflow as tf\n",
    "import keras\n",
    "import tensorflow.keras as tfk\n",
    "import keras_preprocessing\n",
    "import matplotlib.pyplot as plt\n",
    "import PIL\n",
    "import numpy as np\n",
    "\n",
    "BATCHSIZE = 32"
   ]
  },
  {
   "cell_type": "code",
   "execution_count": 132,
   "id": "99a1c2b9",
   "metadata": {},
   "outputs": [
    {
     "data": {
      "text/plain": [
       "[PhysicalDevice(name='/physical_device:GPU:0', device_type='GPU')]"
      ]
     },
     "execution_count": 132,
     "metadata": {},
     "output_type": "execute_result"
    }
   ],
   "source": [
    "tf.config.list_physical_devices('GPU')\n"
   ]
  },
  {
   "cell_type": "code",
   "execution_count": 133,
   "id": "067e59ba",
   "metadata": {},
   "outputs": [
    {
     "name": "stdout",
     "output_type": "stream",
     "text": [
      "Training Set:\n",
      "Found 31810 images belonging to 93 classes.\n"
     ]
    }
   ],
   "source": [
    "train_datagen = keras_preprocessing.image.ImageDataGenerator(\n",
    "        rescale=1./255,\n",
    "        shear_range=0.2,\n",
    "        zoom_range=0.2,\n",
    "        horizontal_flip=True,\n",
    "        validation_split=0.15\n",
    ")\n",
    "print(\"Training Set:\")\n",
    "training_set = train_datagen.flow_from_directory(\n",
    "        'flowersdata/',\n",
    "        target_size=(64, 64),\n",
    "        batch_size=BATCHSIZE,\n",
    "        subset='training',\n",
    "        shuffle=True,\n",
    "        seed=1000,\n",
    "        class_mode='categorical')\n",
    "\n",
    "#print(\"Validation Set:\")\n",
    "#validation_datagen = keras_preprocessing.image.ImageDataGenerator(rescale=1./255, validation_split=0.9)\n",
    "#validation_set = validation_datagen.flow_from_directory(\n",
    "#        'flowersdata/',\n",
    "#        target_size=(64, 64),\n",
    "#        batch_size=BATCHSIZE,\n",
    "#        subset='validation',\n",
    "#        shuffle=True,\n",
    "#        seed=1000,\n",
    "#        class_mode='categorical')"
   ]
  },
  {
   "cell_type": "code",
   "execution_count": 134,
   "id": "70f858c5",
   "metadata": {},
   "outputs": [],
   "source": [
    "conv_neural_network = tf.keras.models.Sequential()"
   ]
  },
  {
   "cell_type": "code",
   "execution_count": 135,
   "id": "296a1caf",
   "metadata": {},
   "outputs": [],
   "source": [
    "conv_neural_network.add(tf.keras.layers.Conv2D(filters=64 , kernel_size=3 , activation='relu' , input_shape=[64,64,3]))\n",
    "conv_neural_network.add(tf.keras.layers.MaxPool2D(pool_size=2,strides=2))\n"
   ]
  },
  {
   "cell_type": "code",
   "execution_count": 136,
   "id": "6d16fae2",
   "metadata": {},
   "outputs": [],
   "source": [
    "conv_neural_network.add(tf.keras.layers.Conv2D(filters=64 , kernel_size=3 , activation='relu' ))\n",
    "conv_neural_network.add(tf.keras.layers.MaxPool2D(pool_size=2 , strides=2))"
   ]
  },
  {
   "cell_type": "code",
   "execution_count": 137,
   "id": "7be52f4f",
   "metadata": {},
   "outputs": [],
   "source": [
    "conv_neural_network.add(tf.keras.layers.Dropout(0.5))"
   ]
  },
  {
   "cell_type": "code",
   "execution_count": 138,
   "id": "45d2ddc0",
   "metadata": {},
   "outputs": [],
   "source": [
    "conv_neural_network.add(tf.keras.layers.Flatten())"
   ]
  },
  {
   "cell_type": "code",
   "execution_count": 139,
   "id": "0fd49656",
   "metadata": {},
   "outputs": [],
   "source": [
    "conv_neural_network.add(tf.keras.layers.Dense(units=128, activation='relu'))"
   ]
  },
  {
   "cell_type": "code",
   "execution_count": 140,
   "id": "3a87281e",
   "metadata": {},
   "outputs": [],
   "source": [
    "conv_neural_network.add(tf.keras.layers.Dense(units=len(training_set.class_indices.items()) , activation='softmax'))"
   ]
  },
  {
   "cell_type": "code",
   "execution_count": 141,
   "id": "733499a9",
   "metadata": {},
   "outputs": [],
   "source": [
    "conv_neural_network.compile(optimizer = 'rmsprop' , loss = 'categorical_crossentropy' , metrics = ['accuracy'])"
   ]
  },
  {
   "cell_type": "code",
   "execution_count": 142,
   "id": "ddabd352",
   "metadata": {},
   "outputs": [
    {
     "name": "stdout",
     "output_type": "stream",
     "text": [
      "Epoch 1/20\n",
      "995/995 [==============================] - 60s 60ms/step - loss: 3.7762 - accuracy: 0.1061\n",
      "Epoch 2/20\n",
      "995/995 [==============================] - 60s 60ms/step - loss: 3.1923 - accuracy: 0.2087\n",
      "Epoch 3/20\n",
      "995/995 [==============================] - 60s 60ms/step - loss: 2.9176 - accuracy: 0.2679\n",
      "Epoch 4/20\n",
      "995/995 [==============================] - 60s 60ms/step - loss: 2.7518 - accuracy: 0.3078\n",
      "Epoch 5/20\n",
      "995/995 [==============================] - 60s 60ms/step - loss: 2.6239 - accuracy: 0.3344\n",
      "Epoch 6/20\n",
      "995/995 [==============================] - 60s 60ms/step - loss: 2.5397 - accuracy: 0.3529\n",
      "Epoch 7/20\n",
      "995/995 [==============================] - 60s 60ms/step - loss: 2.4682 - accuracy: 0.3740\n",
      "Epoch 8/20\n",
      "995/995 [==============================] - 60s 61ms/step - loss: 2.4153 - accuracy: 0.3867\n",
      "Epoch 9/20\n",
      "995/995 [==============================] - 60s 60ms/step - loss: 2.3773 - accuracy: 0.3956\n",
      "Epoch 10/20\n",
      "995/995 [==============================] - 60s 60ms/step - loss: 2.3427 - accuracy: 0.4032\n",
      "Epoch 11/20\n",
      "995/995 [==============================] - 60s 60ms/step - loss: 2.3275 - accuracy: 0.4088\n",
      "Epoch 12/20\n",
      "995/995 [==============================] - 60s 61ms/step - loss: 2.3162 - accuracy: 0.4115\n",
      "Epoch 13/20\n",
      "995/995 [==============================] - 59s 60ms/step - loss: 2.2949 - accuracy: 0.4177\n",
      "Epoch 14/20\n",
      "995/995 [==============================] - 60s 60ms/step - loss: 2.2904 - accuracy: 0.4200\n",
      "Epoch 15/20\n",
      "995/995 [==============================] - 61s 61ms/step - loss: 2.2942 - accuracy: 0.4199\n",
      "Epoch 16/20\n",
      "995/995 [==============================] - 61s 61ms/step - loss: 2.2991 - accuracy: 0.4180\n",
      "Epoch 17/20\n",
      "995/995 [==============================] - 60s 60ms/step - loss: 2.2896 - accuracy: 0.4258\n",
      "Epoch 18/20\n",
      "995/995 [==============================] - 60s 60ms/step - loss: 2.2939 - accuracy: 0.4241\n",
      "Epoch 19/20\n",
      "995/995 [==============================] - 61s 61ms/step - loss: 2.3149 - accuracy: 0.4202\n",
      "Epoch 20/20\n",
      "995/995 [==============================] - 60s 60ms/step - loss: 2.3206 - accuracy: 0.4162\n"
     ]
    },
    {
     "data": {
      "text/plain": [
       "<keras.callbacks.History at 0x7f9a38658490>"
      ]
     },
     "execution_count": 142,
     "metadata": {},
     "output_type": "execute_result"
    }
   ],
   "source": [
    "conv_neural_network.fit(x = training_set , epochs = 20, batch_size=BATCHSIZE)"
   ]
  },
  {
   "cell_type": "code",
   "execution_count": 143,
   "id": "69c7264b",
   "metadata": {},
   "outputs": [
    {
     "ename": "TypeError",
     "evalue": "save() missing 1 required positional argument: 'filepath'",
     "output_type": "error",
     "traceback": [
      "\u001b[0;31m---------------------------------------------------------------------------\u001b[0m",
      "\u001b[0;31mTypeError\u001b[0m                                 Traceback (most recent call last)",
      "\u001b[0;32m/tmp/ipykernel_98812/2307887304.py\u001b[0m in \u001b[0;36m<module>\u001b[0;34m\u001b[0m\n\u001b[0;32m----> 1\u001b[0;31m \u001b[0mconv_neural_network\u001b[0m\u001b[0;34m.\u001b[0m\u001b[0msave\u001b[0m\u001b[0;34m(\u001b[0m\u001b[0;34m)\u001b[0m\u001b[0;34m\u001b[0m\u001b[0;34m\u001b[0m\u001b[0m\n\u001b[0m",
      "\u001b[0;32m/opt/miniconda3/lib/python3.9/site-packages/keras/utils/traceback_utils.py\u001b[0m in \u001b[0;36merror_handler\u001b[0;34m(*args, **kwargs)\u001b[0m\n\u001b[1;32m     65\u001b[0m     \u001b[0;32mexcept\u001b[0m \u001b[0mException\u001b[0m \u001b[0;32mas\u001b[0m \u001b[0me\u001b[0m\u001b[0;34m:\u001b[0m  \u001b[0;31m# pylint: disable=broad-except\u001b[0m\u001b[0;34m\u001b[0m\u001b[0;34m\u001b[0m\u001b[0m\n\u001b[1;32m     66\u001b[0m       \u001b[0mfiltered_tb\u001b[0m \u001b[0;34m=\u001b[0m \u001b[0m_process_traceback_frames\u001b[0m\u001b[0;34m(\u001b[0m\u001b[0me\u001b[0m\u001b[0;34m.\u001b[0m\u001b[0m__traceback__\u001b[0m\u001b[0;34m)\u001b[0m\u001b[0;34m\u001b[0m\u001b[0;34m\u001b[0m\u001b[0m\n\u001b[0;32m---> 67\u001b[0;31m       \u001b[0;32mraise\u001b[0m \u001b[0me\u001b[0m\u001b[0;34m.\u001b[0m\u001b[0mwith_traceback\u001b[0m\u001b[0;34m(\u001b[0m\u001b[0mfiltered_tb\u001b[0m\u001b[0;34m)\u001b[0m \u001b[0;32mfrom\u001b[0m \u001b[0;32mNone\u001b[0m\u001b[0;34m\u001b[0m\u001b[0;34m\u001b[0m\u001b[0m\n\u001b[0m\u001b[1;32m     68\u001b[0m     \u001b[0;32mfinally\u001b[0m\u001b[0;34m:\u001b[0m\u001b[0;34m\u001b[0m\u001b[0;34m\u001b[0m\u001b[0m\n\u001b[1;32m     69\u001b[0m       \u001b[0;32mdel\u001b[0m \u001b[0mfiltered_tb\u001b[0m\u001b[0;34m\u001b[0m\u001b[0;34m\u001b[0m\u001b[0m\n",
      "\u001b[0;32m/opt/miniconda3/lib/python3.9/site-packages/keras/utils/traceback_utils.py\u001b[0m in \u001b[0;36merror_handler\u001b[0;34m(*args, **kwargs)\u001b[0m\n\u001b[1;32m     62\u001b[0m     \u001b[0mfiltered_tb\u001b[0m \u001b[0;34m=\u001b[0m \u001b[0;32mNone\u001b[0m\u001b[0;34m\u001b[0m\u001b[0;34m\u001b[0m\u001b[0m\n\u001b[1;32m     63\u001b[0m     \u001b[0;32mtry\u001b[0m\u001b[0;34m:\u001b[0m\u001b[0;34m\u001b[0m\u001b[0;34m\u001b[0m\u001b[0m\n\u001b[0;32m---> 64\u001b[0;31m       \u001b[0;32mreturn\u001b[0m \u001b[0mfn\u001b[0m\u001b[0;34m(\u001b[0m\u001b[0;34m*\u001b[0m\u001b[0margs\u001b[0m\u001b[0;34m,\u001b[0m \u001b[0;34m**\u001b[0m\u001b[0mkwargs\u001b[0m\u001b[0;34m)\u001b[0m\u001b[0;34m\u001b[0m\u001b[0;34m\u001b[0m\u001b[0m\n\u001b[0m\u001b[1;32m     65\u001b[0m     \u001b[0;32mexcept\u001b[0m \u001b[0mException\u001b[0m \u001b[0;32mas\u001b[0m \u001b[0me\u001b[0m\u001b[0;34m:\u001b[0m  \u001b[0;31m# pylint: disable=broad-except\u001b[0m\u001b[0;34m\u001b[0m\u001b[0;34m\u001b[0m\u001b[0m\n\u001b[1;32m     66\u001b[0m       \u001b[0mfiltered_tb\u001b[0m \u001b[0;34m=\u001b[0m \u001b[0m_process_traceback_frames\u001b[0m\u001b[0;34m(\u001b[0m\u001b[0me\u001b[0m\u001b[0;34m.\u001b[0m\u001b[0m__traceback__\u001b[0m\u001b[0;34m)\u001b[0m\u001b[0;34m\u001b[0m\u001b[0;34m\u001b[0m\u001b[0m\n",
      "\u001b[0;31mTypeError\u001b[0m: save() missing 1 required positional argument: 'filepath'"
     ]
    }
   ],
   "source": [
    "conv_neural_network.save()"
   ]
  },
  {
   "cell_type": "code",
   "execution_count": null,
   "id": "97f3a81c",
   "metadata": {},
   "outputs": [],
   "source": [
    "from keras_preprocessing import image\n",
    "test_img = image.load_img('flower.jpeg', target_size=(64,64))\n",
    "test_img = image.img_to_array(test_img)\n",
    "test_img = np.expand_dims(test_img, axis=0)\n",
    "res = conv_neural_network.predict(test_img)\n",
    "\n",
    "#print(res[0][0])\n",
    "#print(test_img[0][0])\n",
    "print(res)\n",
    "max = res.argmax(1)[0]\n",
    "\n",
    "\n",
    "flower_names = list(training_set.class_indices.keys())\n",
    "\n",
    "for i in range(0, len(flower_names)):\n",
    "    if res[0][i]:\n",
    "        print(\"{} are un procentaj de {}%\".format(flower_names[i], res[0][i] * 100))\n",
    "\n",
    "print(flower_names[max])\n"
   ]
  },
  {
   "cell_type": "code",
   "execution_count": null,
   "id": "dc0f853d",
   "metadata": {},
   "outputs": [],
   "source": []
  },
  {
   "cell_type": "code",
   "execution_count": null,
   "id": "7ceb9e11",
   "metadata": {},
   "outputs": [],
   "source": []
  },
  {
   "cell_type": "code",
   "execution_count": null,
   "id": "1eecd44e",
   "metadata": {},
   "outputs": [],
   "source": []
  },
  {
   "cell_type": "code",
   "execution_count": null,
   "id": "e341c834",
   "metadata": {},
   "outputs": [],
   "source": []
  }
 ],
 "metadata": {
  "kernelspec": {
   "display_name": "Python 3 (ipykernel)",
   "language": "python",
   "name": "python3"
  },
  "language_info": {
   "codemirror_mode": {
    "name": "ipython",
    "version": 3
   },
   "file_extension": ".py",
   "mimetype": "text/x-python",
   "name": "python",
   "nbconvert_exporter": "python",
   "pygments_lexer": "ipython3",
   "version": "3.9.5"
  }
 },
 "nbformat": 4,
 "nbformat_minor": 5
}
